{
  "nbformat": 4,
  "nbformat_minor": 0,
  "metadata": {
    "colab": {
      "provenance": []
    },
    "kernelspec": {
      "name": "python3",
      "display_name": "Python 3"
    },
    "language_info": {
      "name": "python"
    }
  },
  "cells": [
    {
      "cell_type": "markdown",
      "source": [
        "#Data Pipelines with Python Project"
      ],
      "metadata": {
        "id": "NN-PYTdgx2ds"
      }
    },
    {
      "cell_type": "markdown",
      "source": [
        "##Project Brief"
      ],
      "metadata": {
        "id": "kNaPdo-Hx9sX"
      }
    },
    {
      "cell_type": "markdown",
      "source": [
        "Telecom companies often have to extract billing data from multiple CSV files generated from various systems and transform it into a structured format for analysis and revenue reporting. \n",
        "\n",
        "This process can be time-consuming, error-prone, and hinder decision-making. Manually analyzing and reconciling billing data from different sources is a tedious task and often leads to\n",
        "delays in generating revenue reports. \n",
        "\n",
        "Thus, there is a need for an automated data pipeline that can extract billing data from multiple sources and transform it into a structured format for efficient analysis and revenue reporting."
      ],
      "metadata": {
        "id": "NoteVpvjxp6B"
      }
    },
    {
      "cell_type": "markdown",
      "source": [
        "##Extract the data"
      ],
      "metadata": {
        "id": "0CzL_LGKyMoq"
      }
    },
    {
      "cell_type": "code",
      "source": [
        "# import libraries\n",
        "import pandas as pd\n",
        "import numpy as np\n",
        "import os"
      ],
      "metadata": {
        "id": "ScGYhoS_aFa2"
      },
      "execution_count": 1,
      "outputs": []
    },
    {
      "cell_type": "code",
      "source": [
        "# Define the paths to the CSV files\n",
        "dataset1_path = \"dataset1.csv\"\n",
        "dataset2_path = \"dataset2.csv\"\n",
        "dataset3_path = \"dataset3.csv\"\n",
        "\n",
        "# Define the output path for the transformed data\n",
        "output_path = \"output.csv\""
      ],
      "metadata": {
        "id": "wxYf0uf4aOsr"
      },
      "execution_count": 2,
      "outputs": []
    },
    {
      "cell_type": "markdown",
      "source": [
        "###Transform the data: Apply any necessary transformations on the data, such as data type conversion,"
      ],
      "metadata": {
        "id": "85S-P5h7yqIY"
      }
    },
    {
      "cell_type": "code",
      "execution_count": 3,
      "metadata": {
        "id": "LSvasdwaaChU"
      },
      "outputs": [],
      "source": [
        "# Define the data types for each column in the datasets\n",
        "dataset1_dtypes = {\n",
        "    \"customer_id\": np.int64,\n",
        "    # \"date_of_purchase\": np.datetime64,\n",
        "    \"total_amount_billed\": np.float64,\n",
        "    \"payment_status\": \"category\",\n",
        "    \"payment_method\": \"category\",\n",
        "    \"promo_code\": str,\n",
        "    \"country_of_purchase\": \"category\"\n",
        "}\n",
        "\n",
        "dataset2_dtypes = {\n",
        "    \"customer_id\": np.int64,\n",
        "    # \"date_of_payment\": np.datetime64,\n",
        "    \"amount_paid\": np.float64,\n",
        "    \"payment_method\": \"category\",\n",
        "    \"payment_status\": \"category\",\n",
        "    \"late_payment_fee\": np.float64,\n",
        "    \"country_of_payment\": \"category\"\n",
        "}\n",
        "\n",
        "dataset3_dtypes = {\n",
        "    \"customer_id\": np.int64,\n",
        "    # \"date_of_refund\": np.datetime64,\n",
        "    \"refund_amount\": np.float64,\n",
        "    \"reason_for_refund\": str,\n",
        "    \"country_of_refund\": \"category\"\n",
        "}\n",
        "\n",
        "# Define the date parsers for each dataset\n",
        "dataset1_date_parser = lambda x: pd.to_datetime(x, format=\"%m/%d/%Y\", errors=\"coerce\")\n",
        "dataset2_date_parser = lambda x: pd.to_datetime(x, format=\"%m/%d/%Y\", errors=\"coerce\")\n",
        "dataset3_date_parser = lambda x: pd.to_datetime(x, format=\"%m/%d/%Y\", errors=\"coerce\")\n",
        "\n",
        "\n"
      ]
    },
    {
      "cell_type": "code",
      "source": [
        "# Read the datasets into pandas dataframes\n",
        "dataset1 = pd.read_csv(dataset1_path, dtype=dataset1_dtypes, parse_dates=[\"date_of_purchase\"], date_parser=dataset1_date_parser)\n",
        "dataset2 = pd.read_csv(dataset2_path, dtype=dataset2_dtypes, parse_dates=[\"date_of_payment\"], date_parser=dataset2_date_parser)\n",
        "dataset3 = pd.read_csv(dataset3_path, dtype=dataset3_dtypes, parse_dates=[\"date_of_refund\"], date_parser=dataset3_date_parser)\n",
        "\n"
      ],
      "metadata": {
        "id": "LU1UUvB7aEvA"
      },
      "execution_count": 4,
      "outputs": []
    },
    {
      "cell_type": "markdown",
      "source": [
        "#Clean the data"
      ],
      "metadata": {
        "id": "YY-bGssgyThY"
      }
    },
    {
      "cell_type": "code",
      "source": [
        "# Clean the data by replacing missing values with NaN\n",
        "dataset1.replace([\"\", \" \", \"-\"], np.nan, inplace=True)\n",
        "dataset2.replace([\"\", \" \", \"-\"], np.nan, inplace=True)\n",
        "dataset3.replace([\"\", \" \", \"-\"], np.nan, inplace=True)\n",
        "\n"
      ],
      "metadata": {
        "id": "OX2P3lV4aZX5"
      },
      "execution_count": 5,
      "outputs": []
    },
    {
      "cell_type": "markdown",
      "source": [
        "#Merge the datasets:"
      ],
      "metadata": {
        "id": "coFIyp_tygRT"
      }
    },
    {
      "cell_type": "code",
      "source": [
        "# prepare the data for merging by checking their column names to determine which columns can be merged\n",
        "print(f'Dataset 1\\n{dataset1.columns}')\n",
        "print(f'Dataset 2\\n{dataset1.columns}')\n",
        "print(f'Dataset 3\\n{dataset1.columns}')"
      ],
      "metadata": {
        "colab": {
          "base_uri": "https://localhost:8080/"
        },
        "id": "Eb5jG8kAoXH3",
        "outputId": "aa52501b-ca4c-4989-c373-3e2ffe59b8f3"
      },
      "execution_count": 6,
      "outputs": [
        {
          "output_type": "stream",
          "name": "stdout",
          "text": [
            "Dataset 1\n",
            "Index(['customer_id', 'date_of_purchase', 'total_amount_billed',\n",
            "       'payment_status', 'payment_method', 'promo_code',\n",
            "       'country_of_purchase'],\n",
            "      dtype='object')\n",
            "Dataset 2\n",
            "Index(['customer_id', 'date_of_purchase', 'total_amount_billed',\n",
            "       'payment_status', 'payment_method', 'promo_code',\n",
            "       'country_of_purchase'],\n",
            "      dtype='object')\n",
            "Dataset 3\n",
            "Index(['customer_id', 'date_of_purchase', 'total_amount_billed',\n",
            "       'payment_status', 'payment_method', 'promo_code',\n",
            "       'country_of_purchase'],\n",
            "      dtype='object')\n"
          ]
        }
      ]
    },
    {
      "cell_type": "code",
      "source": [
        "# Drop the index columns\n",
        "dataset1 = dataset1.reset_index(drop=True)\n",
        "dataset2 = dataset2.reset_index(drop=True)\n",
        "dataset3 = dataset3.reset_index(drop=True)\n",
        "\n",
        "\n",
        "# Rename the columns\n",
        "dataset1 = dataset1.rename(columns={\"date_of_purchase\": \"date\", \"country_of_purchase\": \"country\"})\n",
        "dataset2 = dataset2.rename(columns={\"date_of_payment\": \"date\", \"country_of_payment\": \"country\"})\n",
        "dataset3 = dataset3.rename(columns={\"date_of_refund\": \"date\", \"country_of_refund\": \"country\"})\n",
        "\n"
      ],
      "metadata": {
        "id": "NWgsdUH9paO_"
      },
      "execution_count": 7,
      "outputs": []
    },
    {
      "cell_type": "code",
      "source": [
        "# Merge the datasets by Customer ID, Date of purchase/payment/refund, and country of purchase/payment/refund\n",
        "merged_data = pd.merge(dataset1, dataset2, on=['customer_id','date','country'],\n",
        "                          how='outer', suffixes = ('_purchase', '_payment'))\n",
        "merged_data = pd.merge(merged_data, dataset3, on=['customer_id','date','country'], \n",
        "                          how='outer', suffixes = ('_payment', '_refund'))\n",
        "\n",
        "merged_data.head()\n",
        "     \n"
      ],
      "metadata": {
        "colab": {
          "base_uri": "https://localhost:8080/",
          "height": 357
        },
        "id": "RV9OPWJ6abRE",
        "outputId": "2510b84c-0336-4457-edfd-b8438373f44c"
      },
      "execution_count": 8,
      "outputs": [
        {
          "output_type": "execute_result",
          "data": {
            "text/plain": [
              "   customer_id       date  total_amount_billed payment_status_purchase  \\\n",
              "0          101 2021-04-01                100.0                    paid   \n",
              "1          102 2021-04-02                200.0                    paid   \n",
              "2          103 2021-04-02                 50.0                 overdue   \n",
              "3          104 2021-04-03                 75.0                disputed   \n",
              "4          105 2021-04-04                125.0                    paid   \n",
              "\n",
              "  payment_method_purchase promo_code country  amount_paid  \\\n",
              "0             credit card     PROMO1     USA        100.0   \n",
              "1           bank transfer     PROMO2     USA          NaN   \n",
              "2             credit card        NaN      UK          NaN   \n",
              "3                e-wallet     PROMO3      UK          NaN   \n",
              "4             credit card     PROMO4     USA          NaN   \n",
              "\n",
              "  payment_method_payment payment_status_payment  late_payment_fee  \\\n",
              "0            credit card                   paid               0.0   \n",
              "1                    NaN                    NaN               NaN   \n",
              "2                    NaN                    NaN               NaN   \n",
              "3                    NaN                    NaN               NaN   \n",
              "4                    NaN                    NaN               NaN   \n",
              "\n",
              "   refund_amount reason_for_refund  \n",
              "0            NaN               NaN  \n",
              "1            NaN               NaN  \n",
              "2            NaN               NaN  \n",
              "3            NaN               NaN  \n",
              "4            NaN               NaN  "
            ],
            "text/html": [
              "\n",
              "  <div id=\"df-a899f79b-cb21-4da6-9d89-f92d99c79fa9\">\n",
              "    <div class=\"colab-df-container\">\n",
              "      <div>\n",
              "<style scoped>\n",
              "    .dataframe tbody tr th:only-of-type {\n",
              "        vertical-align: middle;\n",
              "    }\n",
              "\n",
              "    .dataframe tbody tr th {\n",
              "        vertical-align: top;\n",
              "    }\n",
              "\n",
              "    .dataframe thead th {\n",
              "        text-align: right;\n",
              "    }\n",
              "</style>\n",
              "<table border=\"1\" class=\"dataframe\">\n",
              "  <thead>\n",
              "    <tr style=\"text-align: right;\">\n",
              "      <th></th>\n",
              "      <th>customer_id</th>\n",
              "      <th>date</th>\n",
              "      <th>total_amount_billed</th>\n",
              "      <th>payment_status_purchase</th>\n",
              "      <th>payment_method_purchase</th>\n",
              "      <th>promo_code</th>\n",
              "      <th>country</th>\n",
              "      <th>amount_paid</th>\n",
              "      <th>payment_method_payment</th>\n",
              "      <th>payment_status_payment</th>\n",
              "      <th>late_payment_fee</th>\n",
              "      <th>refund_amount</th>\n",
              "      <th>reason_for_refund</th>\n",
              "    </tr>\n",
              "  </thead>\n",
              "  <tbody>\n",
              "    <tr>\n",
              "      <th>0</th>\n",
              "      <td>101</td>\n",
              "      <td>2021-04-01</td>\n",
              "      <td>100.0</td>\n",
              "      <td>paid</td>\n",
              "      <td>credit card</td>\n",
              "      <td>PROMO1</td>\n",
              "      <td>USA</td>\n",
              "      <td>100.0</td>\n",
              "      <td>credit card</td>\n",
              "      <td>paid</td>\n",
              "      <td>0.0</td>\n",
              "      <td>NaN</td>\n",
              "      <td>NaN</td>\n",
              "    </tr>\n",
              "    <tr>\n",
              "      <th>1</th>\n",
              "      <td>102</td>\n",
              "      <td>2021-04-02</td>\n",
              "      <td>200.0</td>\n",
              "      <td>paid</td>\n",
              "      <td>bank transfer</td>\n",
              "      <td>PROMO2</td>\n",
              "      <td>USA</td>\n",
              "      <td>NaN</td>\n",
              "      <td>NaN</td>\n",
              "      <td>NaN</td>\n",
              "      <td>NaN</td>\n",
              "      <td>NaN</td>\n",
              "      <td>NaN</td>\n",
              "    </tr>\n",
              "    <tr>\n",
              "      <th>2</th>\n",
              "      <td>103</td>\n",
              "      <td>2021-04-02</td>\n",
              "      <td>50.0</td>\n",
              "      <td>overdue</td>\n",
              "      <td>credit card</td>\n",
              "      <td>NaN</td>\n",
              "      <td>UK</td>\n",
              "      <td>NaN</td>\n",
              "      <td>NaN</td>\n",
              "      <td>NaN</td>\n",
              "      <td>NaN</td>\n",
              "      <td>NaN</td>\n",
              "      <td>NaN</td>\n",
              "    </tr>\n",
              "    <tr>\n",
              "      <th>3</th>\n",
              "      <td>104</td>\n",
              "      <td>2021-04-03</td>\n",
              "      <td>75.0</td>\n",
              "      <td>disputed</td>\n",
              "      <td>e-wallet</td>\n",
              "      <td>PROMO3</td>\n",
              "      <td>UK</td>\n",
              "      <td>NaN</td>\n",
              "      <td>NaN</td>\n",
              "      <td>NaN</td>\n",
              "      <td>NaN</td>\n",
              "      <td>NaN</td>\n",
              "      <td>NaN</td>\n",
              "    </tr>\n",
              "    <tr>\n",
              "      <th>4</th>\n",
              "      <td>105</td>\n",
              "      <td>2021-04-04</td>\n",
              "      <td>125.0</td>\n",
              "      <td>paid</td>\n",
              "      <td>credit card</td>\n",
              "      <td>PROMO4</td>\n",
              "      <td>USA</td>\n",
              "      <td>NaN</td>\n",
              "      <td>NaN</td>\n",
              "      <td>NaN</td>\n",
              "      <td>NaN</td>\n",
              "      <td>NaN</td>\n",
              "      <td>NaN</td>\n",
              "    </tr>\n",
              "  </tbody>\n",
              "</table>\n",
              "</div>\n",
              "      <button class=\"colab-df-convert\" onclick=\"convertToInteractive('df-a899f79b-cb21-4da6-9d89-f92d99c79fa9')\"\n",
              "              title=\"Convert this dataframe to an interactive table.\"\n",
              "              style=\"display:none;\">\n",
              "        \n",
              "  <svg xmlns=\"http://www.w3.org/2000/svg\" height=\"24px\"viewBox=\"0 0 24 24\"\n",
              "       width=\"24px\">\n",
              "    <path d=\"M0 0h24v24H0V0z\" fill=\"none\"/>\n",
              "    <path d=\"M18.56 5.44l.94 2.06.94-2.06 2.06-.94-2.06-.94-.94-2.06-.94 2.06-2.06.94zm-11 1L8.5 8.5l.94-2.06 2.06-.94-2.06-.94L8.5 2.5l-.94 2.06-2.06.94zm10 10l.94 2.06.94-2.06 2.06-.94-2.06-.94-.94-2.06-.94 2.06-2.06.94z\"/><path d=\"M17.41 7.96l-1.37-1.37c-.4-.4-.92-.59-1.43-.59-.52 0-1.04.2-1.43.59L10.3 9.45l-7.72 7.72c-.78.78-.78 2.05 0 2.83L4 21.41c.39.39.9.59 1.41.59.51 0 1.02-.2 1.41-.59l7.78-7.78 2.81-2.81c.8-.78.8-2.07 0-2.86zM5.41 20L4 18.59l7.72-7.72 1.47 1.35L5.41 20z\"/>\n",
              "  </svg>\n",
              "      </button>\n",
              "      \n",
              "  <style>\n",
              "    .colab-df-container {\n",
              "      display:flex;\n",
              "      flex-wrap:wrap;\n",
              "      gap: 12px;\n",
              "    }\n",
              "\n",
              "    .colab-df-convert {\n",
              "      background-color: #E8F0FE;\n",
              "      border: none;\n",
              "      border-radius: 50%;\n",
              "      cursor: pointer;\n",
              "      display: none;\n",
              "      fill: #1967D2;\n",
              "      height: 32px;\n",
              "      padding: 0 0 0 0;\n",
              "      width: 32px;\n",
              "    }\n",
              "\n",
              "    .colab-df-convert:hover {\n",
              "      background-color: #E2EBFA;\n",
              "      box-shadow: 0px 1px 2px rgba(60, 64, 67, 0.3), 0px 1px 3px 1px rgba(60, 64, 67, 0.15);\n",
              "      fill: #174EA6;\n",
              "    }\n",
              "\n",
              "    [theme=dark] .colab-df-convert {\n",
              "      background-color: #3B4455;\n",
              "      fill: #D2E3FC;\n",
              "    }\n",
              "\n",
              "    [theme=dark] .colab-df-convert:hover {\n",
              "      background-color: #434B5C;\n",
              "      box-shadow: 0px 1px 3px 1px rgba(0, 0, 0, 0.15);\n",
              "      filter: drop-shadow(0px 1px 2px rgba(0, 0, 0, 0.3));\n",
              "      fill: #FFFFFF;\n",
              "    }\n",
              "  </style>\n",
              "\n",
              "      <script>\n",
              "        const buttonEl =\n",
              "          document.querySelector('#df-a899f79b-cb21-4da6-9d89-f92d99c79fa9 button.colab-df-convert');\n",
              "        buttonEl.style.display =\n",
              "          google.colab.kernel.accessAllowed ? 'block' : 'none';\n",
              "\n",
              "        async function convertToInteractive(key) {\n",
              "          const element = document.querySelector('#df-a899f79b-cb21-4da6-9d89-f92d99c79fa9');\n",
              "          const dataTable =\n",
              "            await google.colab.kernel.invokeFunction('convertToInteractive',\n",
              "                                                     [key], {});\n",
              "          if (!dataTable) return;\n",
              "\n",
              "          const docLinkHtml = 'Like what you see? Visit the ' +\n",
              "            '<a target=\"_blank\" href=https://colab.research.google.com/notebooks/data_table.ipynb>data table notebook</a>'\n",
              "            + ' to learn more about interactive tables.';\n",
              "          element.innerHTML = '';\n",
              "          dataTable['output_type'] = 'display_data';\n",
              "          await google.colab.output.renderOutput(dataTable, element);\n",
              "          const docLink = document.createElement('div');\n",
              "          docLink.innerHTML = docLinkHtml;\n",
              "          element.appendChild(docLink);\n",
              "        }\n",
              "      </script>\n",
              "    </div>\n",
              "  </div>\n",
              "  "
            ]
          },
          "metadata": {},
          "execution_count": 8
        }
      ]
    },
    {
      "cell_type": "markdown",
      "source": [
        "##Clean the data further"
      ],
      "metadata": {
        "id": "Y09z3Q6S2WHd"
      }
    },
    {
      "cell_type": "code",
      "source": [
        "# Clean the data further to prepair it for anlysis \n",
        "\n",
        "# Replace missing values in 'amount_paid' with 0\n",
        "merged_data['amount_paid'].fillna(value=0, inplace=True)\n",
        "\n",
        "# Replace missing values in 'late_payment_fee' with 0\n",
        "merged_data['late_payment_fee'].fillna(value=0, inplace=True)\n",
        "\n",
        "\n",
        "# Replace missing values in 'refund_amount' with 0\n",
        "merged_data['refund_amount'].fillna(value=0, inplace=True)"
      ],
      "metadata": {
        "id": "n_Zhyc7d2dwU"
      },
      "execution_count": 14,
      "outputs": []
    },
    {
      "cell_type": "code",
      "source": [
        "# Calculate the revenue by subtracting the refund amount and late payment fee from the total amount billed\n",
        "merged_data[\"revenue\"] = merged_data[\"total_amount_billed\"] - merged_data[\"refund_amount\"] - merged_data[\"late_payment_fee\"]"
      ],
      "metadata": {
        "id": "n2J06zkjahCk"
      },
      "execution_count": 15,
      "outputs": []
    },
    {
      "cell_type": "markdown",
      "source": [
        "#Load the data to an external file"
      ],
      "metadata": {
        "id": "uQXiJonI2Hwh"
      }
    },
    {
      "cell_type": "code",
      "source": [
        "# Load the transformed data into a CSV file\n",
        "merged_data.to_csv(output_path, index=False)\n",
        "\n",
        "# Print the first 5 rows of the transformed data\n",
        "merged_data.head()"
      ],
      "metadata": {
        "colab": {
          "base_uri": "https://localhost:8080/",
          "height": 357
        },
        "id": "yiCbRV4EadyM",
        "outputId": "0d00bc95-3fac-4e67-f45c-a40844796aa1"
      },
      "execution_count": 16,
      "outputs": [
        {
          "output_type": "execute_result",
          "data": {
            "text/plain": [
              "   customer_id       date  total_amount_billed payment_status_purchase  \\\n",
              "0          101 2021-04-01                100.0                    paid   \n",
              "1          102 2021-04-02                200.0                    paid   \n",
              "2          103 2021-04-02                 50.0                 overdue   \n",
              "3          104 2021-04-03                 75.0                disputed   \n",
              "4          105 2021-04-04                125.0                    paid   \n",
              "\n",
              "  payment_method_purchase promo_code country  amount_paid  \\\n",
              "0             credit card     PROMO1     USA        100.0   \n",
              "1           bank transfer     PROMO2     USA          0.0   \n",
              "2             credit card        NaN      UK          0.0   \n",
              "3                e-wallet     PROMO3      UK          0.0   \n",
              "4             credit card     PROMO4     USA          0.0   \n",
              "\n",
              "  payment_method_payment payment_status_payment  late_payment_fee  \\\n",
              "0            credit card                   paid               0.0   \n",
              "1                    NaN                    NaN               0.0   \n",
              "2                    NaN                    NaN               0.0   \n",
              "3                    NaN                    NaN               0.0   \n",
              "4                    NaN                    NaN               0.0   \n",
              "\n",
              "   refund_amount reason_for_refund  revenue  \n",
              "0            0.0               NaN    100.0  \n",
              "1            0.0               NaN    200.0  \n",
              "2            0.0               NaN     50.0  \n",
              "3            0.0               NaN     75.0  \n",
              "4            0.0               NaN    125.0  "
            ],
            "text/html": [
              "\n",
              "  <div id=\"df-8a541fb3-a7cf-4681-91a5-1a95485999ad\">\n",
              "    <div class=\"colab-df-container\">\n",
              "      <div>\n",
              "<style scoped>\n",
              "    .dataframe tbody tr th:only-of-type {\n",
              "        vertical-align: middle;\n",
              "    }\n",
              "\n",
              "    .dataframe tbody tr th {\n",
              "        vertical-align: top;\n",
              "    }\n",
              "\n",
              "    .dataframe thead th {\n",
              "        text-align: right;\n",
              "    }\n",
              "</style>\n",
              "<table border=\"1\" class=\"dataframe\">\n",
              "  <thead>\n",
              "    <tr style=\"text-align: right;\">\n",
              "      <th></th>\n",
              "      <th>customer_id</th>\n",
              "      <th>date</th>\n",
              "      <th>total_amount_billed</th>\n",
              "      <th>payment_status_purchase</th>\n",
              "      <th>payment_method_purchase</th>\n",
              "      <th>promo_code</th>\n",
              "      <th>country</th>\n",
              "      <th>amount_paid</th>\n",
              "      <th>payment_method_payment</th>\n",
              "      <th>payment_status_payment</th>\n",
              "      <th>late_payment_fee</th>\n",
              "      <th>refund_amount</th>\n",
              "      <th>reason_for_refund</th>\n",
              "      <th>revenue</th>\n",
              "    </tr>\n",
              "  </thead>\n",
              "  <tbody>\n",
              "    <tr>\n",
              "      <th>0</th>\n",
              "      <td>101</td>\n",
              "      <td>2021-04-01</td>\n",
              "      <td>100.0</td>\n",
              "      <td>paid</td>\n",
              "      <td>credit card</td>\n",
              "      <td>PROMO1</td>\n",
              "      <td>USA</td>\n",
              "      <td>100.0</td>\n",
              "      <td>credit card</td>\n",
              "      <td>paid</td>\n",
              "      <td>0.0</td>\n",
              "      <td>0.0</td>\n",
              "      <td>NaN</td>\n",
              "      <td>100.0</td>\n",
              "    </tr>\n",
              "    <tr>\n",
              "      <th>1</th>\n",
              "      <td>102</td>\n",
              "      <td>2021-04-02</td>\n",
              "      <td>200.0</td>\n",
              "      <td>paid</td>\n",
              "      <td>bank transfer</td>\n",
              "      <td>PROMO2</td>\n",
              "      <td>USA</td>\n",
              "      <td>0.0</td>\n",
              "      <td>NaN</td>\n",
              "      <td>NaN</td>\n",
              "      <td>0.0</td>\n",
              "      <td>0.0</td>\n",
              "      <td>NaN</td>\n",
              "      <td>200.0</td>\n",
              "    </tr>\n",
              "    <tr>\n",
              "      <th>2</th>\n",
              "      <td>103</td>\n",
              "      <td>2021-04-02</td>\n",
              "      <td>50.0</td>\n",
              "      <td>overdue</td>\n",
              "      <td>credit card</td>\n",
              "      <td>NaN</td>\n",
              "      <td>UK</td>\n",
              "      <td>0.0</td>\n",
              "      <td>NaN</td>\n",
              "      <td>NaN</td>\n",
              "      <td>0.0</td>\n",
              "      <td>0.0</td>\n",
              "      <td>NaN</td>\n",
              "      <td>50.0</td>\n",
              "    </tr>\n",
              "    <tr>\n",
              "      <th>3</th>\n",
              "      <td>104</td>\n",
              "      <td>2021-04-03</td>\n",
              "      <td>75.0</td>\n",
              "      <td>disputed</td>\n",
              "      <td>e-wallet</td>\n",
              "      <td>PROMO3</td>\n",
              "      <td>UK</td>\n",
              "      <td>0.0</td>\n",
              "      <td>NaN</td>\n",
              "      <td>NaN</td>\n",
              "      <td>0.0</td>\n",
              "      <td>0.0</td>\n",
              "      <td>NaN</td>\n",
              "      <td>75.0</td>\n",
              "    </tr>\n",
              "    <tr>\n",
              "      <th>4</th>\n",
              "      <td>105</td>\n",
              "      <td>2021-04-04</td>\n",
              "      <td>125.0</td>\n",
              "      <td>paid</td>\n",
              "      <td>credit card</td>\n",
              "      <td>PROMO4</td>\n",
              "      <td>USA</td>\n",
              "      <td>0.0</td>\n",
              "      <td>NaN</td>\n",
              "      <td>NaN</td>\n",
              "      <td>0.0</td>\n",
              "      <td>0.0</td>\n",
              "      <td>NaN</td>\n",
              "      <td>125.0</td>\n",
              "    </tr>\n",
              "  </tbody>\n",
              "</table>\n",
              "</div>\n",
              "      <button class=\"colab-df-convert\" onclick=\"convertToInteractive('df-8a541fb3-a7cf-4681-91a5-1a95485999ad')\"\n",
              "              title=\"Convert this dataframe to an interactive table.\"\n",
              "              style=\"display:none;\">\n",
              "        \n",
              "  <svg xmlns=\"http://www.w3.org/2000/svg\" height=\"24px\"viewBox=\"0 0 24 24\"\n",
              "       width=\"24px\">\n",
              "    <path d=\"M0 0h24v24H0V0z\" fill=\"none\"/>\n",
              "    <path d=\"M18.56 5.44l.94 2.06.94-2.06 2.06-.94-2.06-.94-.94-2.06-.94 2.06-2.06.94zm-11 1L8.5 8.5l.94-2.06 2.06-.94-2.06-.94L8.5 2.5l-.94 2.06-2.06.94zm10 10l.94 2.06.94-2.06 2.06-.94-2.06-.94-.94-2.06-.94 2.06-2.06.94z\"/><path d=\"M17.41 7.96l-1.37-1.37c-.4-.4-.92-.59-1.43-.59-.52 0-1.04.2-1.43.59L10.3 9.45l-7.72 7.72c-.78.78-.78 2.05 0 2.83L4 21.41c.39.39.9.59 1.41.59.51 0 1.02-.2 1.41-.59l7.78-7.78 2.81-2.81c.8-.78.8-2.07 0-2.86zM5.41 20L4 18.59l7.72-7.72 1.47 1.35L5.41 20z\"/>\n",
              "  </svg>\n",
              "      </button>\n",
              "      \n",
              "  <style>\n",
              "    .colab-df-container {\n",
              "      display:flex;\n",
              "      flex-wrap:wrap;\n",
              "      gap: 12px;\n",
              "    }\n",
              "\n",
              "    .colab-df-convert {\n",
              "      background-color: #E8F0FE;\n",
              "      border: none;\n",
              "      border-radius: 50%;\n",
              "      cursor: pointer;\n",
              "      display: none;\n",
              "      fill: #1967D2;\n",
              "      height: 32px;\n",
              "      padding: 0 0 0 0;\n",
              "      width: 32px;\n",
              "    }\n",
              "\n",
              "    .colab-df-convert:hover {\n",
              "      background-color: #E2EBFA;\n",
              "      box-shadow: 0px 1px 2px rgba(60, 64, 67, 0.3), 0px 1px 3px 1px rgba(60, 64, 67, 0.15);\n",
              "      fill: #174EA6;\n",
              "    }\n",
              "\n",
              "    [theme=dark] .colab-df-convert {\n",
              "      background-color: #3B4455;\n",
              "      fill: #D2E3FC;\n",
              "    }\n",
              "\n",
              "    [theme=dark] .colab-df-convert:hover {\n",
              "      background-color: #434B5C;\n",
              "      box-shadow: 0px 1px 3px 1px rgba(0, 0, 0, 0.15);\n",
              "      filter: drop-shadow(0px 1px 2px rgba(0, 0, 0, 0.3));\n",
              "      fill: #FFFFFF;\n",
              "    }\n",
              "  </style>\n",
              "\n",
              "      <script>\n",
              "        const buttonEl =\n",
              "          document.querySelector('#df-8a541fb3-a7cf-4681-91a5-1a95485999ad button.colab-df-convert');\n",
              "        buttonEl.style.display =\n",
              "          google.colab.kernel.accessAllowed ? 'block' : 'none';\n",
              "\n",
              "        async function convertToInteractive(key) {\n",
              "          const element = document.querySelector('#df-8a541fb3-a7cf-4681-91a5-1a95485999ad');\n",
              "          const dataTable =\n",
              "            await google.colab.kernel.invokeFunction('convertToInteractive',\n",
              "                                                     [key], {});\n",
              "          if (!dataTable) return;\n",
              "\n",
              "          const docLinkHtml = 'Like what you see? Visit the ' +\n",
              "            '<a target=\"_blank\" href=https://colab.research.google.com/notebooks/data_table.ipynb>data table notebook</a>'\n",
              "            + ' to learn more about interactive tables.';\n",
              "          element.innerHTML = '';\n",
              "          dataTable['output_type'] = 'display_data';\n",
              "          await google.colab.output.renderOutput(dataTable, element);\n",
              "          const docLink = document.createElement('div');\n",
              "          docLink.innerHTML = docLinkHtml;\n",
              "          element.appendChild(docLink);\n",
              "        }\n",
              "      </script>\n",
              "    </div>\n",
              "  </div>\n",
              "  "
            ]
          },
          "metadata": {},
          "execution_count": 16
        }
      ]
    },
    {
      "cell_type": "markdown",
      "source": [
        "#Automate the process:"
      ],
      "metadata": {
        "id": "ZjkwqkuuhEz2"
      }
    },
    {
      "cell_type": "code",
      "source": [
        "# We can auotmate the process by setting up a cron job to execute automatically as desired \n",
        "# Here's an example of how to set up a cron job to run the data pipeline script every day at 3:00 AM:\n",
        "\n",
        "0 3 * * * /path/to/python /path/to/data_pipeline.py"
      ],
      "metadata": {
        "id": "rrzLZSAjajIl"
      },
      "execution_count": null,
      "outputs": []
    },
    {
      "cell_type": "code",
      "source": [
        "# We can monitor the pipeline by:\n",
        "# Monitor logs: Logs can provide detailed information on pipeline activity and errors. \n",
        "# Monitor the pipeline logs regularly to detect and resolve any issues quickly."
      ],
      "metadata": {
        "id": "59T005tEigiC"
      },
      "execution_count": null,
      "outputs": []
    }
  ]
}